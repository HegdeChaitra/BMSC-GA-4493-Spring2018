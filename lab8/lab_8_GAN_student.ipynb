{
 "cells": [
  {
   "cell_type": "markdown",
   "metadata": {
    "colab_type": "text",
    "id": "nxALHPZi05Ph"
   },
   "source": [
    "# Deep Learning in Medicine\n",
    "### BMSC-GA 4493, BMIN-GA 3007 \n",
    "### Lab 8: GAN\n",
    "\n",
    "\n"
   ]
  },
  {
   "cell_type": "markdown",
   "metadata": {
    "colab_type": "text",
    "id": "hqyFDncz05Pm"
   },
   "source": [
    "### Goal of this lab: \n",
    "    - Understand GAN\n",
    "    - Train GAN using MNIST dataset"
   ]
  },
  {
   "cell_type": "markdown",
   "metadata": {
    "colab_type": "text",
    "id": "wKDazwQh05Pp"
   },
   "source": [
    "### Questions: \n",
    "    - What is GAN?\n",
    "    - What are the different types of GANs?"
   ]
  },
  {
   "cell_type": "code",
   "execution_count": null,
   "metadata": {
    "colab": {
     "autoexec": {
      "startup": false,
      "wait_interval": 0
     }
    },
    "colab_type": "code",
    "collapsed": true,
    "id": "8MSA0S4W05Pr"
   },
   "outputs": [],
   "source": [
    "from __future__ import print_function\n",
    "import pickle \n",
    "import numpy as np\n",
    "import argparse\n",
    "import torch\n",
    "import torch.nn as nn\n",
    "import torch.nn.functional as F\n",
    "import torch.optim as optim\n",
    "from torchvision import datasets, transforms\n",
    "from torch.autograd import Variable\n",
    "import matplotlib.pyplot as plt\n",
    "%matplotlib inline"
   ]
  },
  {
   "cell_type": "code",
   "execution_count": null,
   "metadata": {
    "colab": {
     "autoexec": {
      "startup": false,
      "wait_interval": 0
     }
    },
    "colab_type": "code",
    "collapsed": true,
    "id": "Xa_9v89B05P1"
   },
   "outputs": [],
   "source": [
    "#Parameters\n",
    "batch_size = 100\n",
    "training_epoches = 100\n",
    "lr =0.001\n",
    "noise_dimension = 100"
   ]
  },
  {
   "cell_type": "code",
   "execution_count": null,
   "metadata": {
    "colab": {
     "autoexec": {
      "startup": false,
      "wait_interval": 0
     }
    },
    "colab_type": "code",
    "collapsed": true,
    "id": "iAl5kpWR05P7"
   },
   "outputs": [],
   "source": [
    "#torch.manual_seed(717)\n",
    "use_cuda = torch.cuda.is_available()\n",
    "kwargs = {}\n",
    "\n",
    "if use_cuda:\n",
    "    #torch.cuda.manual_seed(717)\n",
    "    kwargs = {'num_workers': 1, 'pin_memory': True} \n",
    "\n",
    "   "
   ]
  },
  {
   "cell_type": "code",
   "execution_count": null,
   "metadata": {
    "colab": {
     "autoexec": {
      "startup": false,
      "wait_interval": 0
     }
    },
    "colab_type": "code",
    "collapsed": true,
    "id": "e-Gn-pN905P_"
   },
   "outputs": [],
   "source": [
    "# Data Loader\n",
    "train_loader = torch.utils.data.DataLoader(\n",
    "    datasets.MNIST('../data', train=True, download=True,\n",
    "                   transform=transforms.Compose([\n",
    "                       transforms.ToTensor(),\n",
    "                       transforms.Normalize((0.1307,), (0.3081,))\n",
    "                   ])),\n",
    "    batch_size=batch_size, shuffle=True, **kwargs)"
   ]
  },
  {
   "cell_type": "code",
   "execution_count": null,
   "metadata": {
    "colab": {
     "autoexec": {
      "startup": false,
      "wait_interval": 0
     }
    },
    "colab_type": "code",
    "collapsed": false,
    "id": "PnQ2RQOg05QC"
   },
   "outputs": [],
   "source": [
    "# Generator\n",
    "class generator(nn.Module):\n",
    "    # initializers\n",
    "    def __init__(self, input_size=100, n_class = 28*28):\n",
    "        super(generator, self).__init__()\n",
    "        self.fc1 = nn.Linear(input_size, 256)\n",
    "        self.fc2 = nn.Linear(self.fc1.out_features, 512)\n",
    "        self.fc3 = nn.Linear(self.fc2.out_features, 1024)\n",
    "        self.fc4 = nn.Linear(self.fc3.out_features, n_class)\n",
    "\n",
    "    # forward method\n",
    "    def forward(self, input):\n",
    "        x = F.leaky_relu(self.fc1(input), 0.2)\n",
    "        x = F.leaky_relu(self.fc2(x), 0.2)\n",
    "        x = F.leaky_relu(self.fc3(x), 0.2)\n",
    "        x = F.tanh(self.fc4(x))\n",
    "        return x\n"
   ]
  },
  {
   "cell_type": "code",
   "execution_count": null,
   "metadata": {
    "colab": {
     "autoexec": {
      "startup": false,
      "wait_interval": 0
     }
    },
    "colab_type": "code",
    "collapsed": false,
    "id": "HqL4WpNS05QE"
   },
   "outputs": [],
   "source": [
    "class discriminator(nn.Module):\n",
    "    # initializers\n",
    "    def __init__(self, input_size= 28*28, n_class=1):\n",
    "        super(discriminator, self).__init__()\n",
    "        self.fc1 = nn.Linear(input_size, 1024)\n",
    "        self.fc2 = nn.Linear(self.fc1.out_features, 512)\n",
    "        self.fc3 = nn.Linear(self.fc2.out_features, 256)\n",
    "        self.fc4 = nn.Linear(self.fc3.out_features, n_class)\n",
    "\n",
    "    # forward method\n",
    "    def forward(self, input):\n",
    "        x = F.leaky_relu(self.fc1(input), 0.2)\n",
    "        x = F.dropout(x, 0.3)\n",
    "        x = F.leaky_relu(self.fc2(x), 0.2)\n",
    "        x = F.dropout(x, 0.3)\n",
    "        x = F.leaky_relu(self.fc3(x), 0.2)\n",
    "        x = F.dropout(x, 0.3)\n",
    "        x = F.sigmoid(self.fc4(x))\n",
    "\n",
    "        return x"
   ]
  },
  {
   "cell_type": "code",
   "execution_count": null,
   "metadata": {
    "colab": {
     "autoexec": {
      "startup": false,
      "wait_interval": 0
     }
    },
    "colab_type": "code",
    "collapsed": true,
    "id": "fcITT3lS05QG"
   },
   "outputs": [],
   "source": [
    "def show_result(num_epoch, batch_index, z, show = True, save = False, path = 'generated.png'):\n",
    "    G.eval()\n",
    "    test_images = G(z)\n",
    "    G.train()\n",
    "    \n",
    "    size_figure_grid = 2\n",
    "    fig, ax = plt.subplots(size_figure_grid, size_figure_grid, figsize=(2, 2))\n",
    "    for i in range(2):\n",
    "        for j in range(1): \n",
    "            ax[i, j].get_xaxis().set_visible(False)\n",
    "            ax[i, j].get_yaxis().set_visible(False)\n",
    "\n",
    "    for k in range(4):\n",
    "        i = k // 2\n",
    "        j = k % 2\n",
    "        ax[i, j].cla()\n",
    "        ax[i, j].imshow(test_images[k, :].cpu().data.view(28, 28).numpy(), cmap='gray')\n",
    "\n",
    "    label = 'Epoch {0}'.format(num_epoch)\n",
    "    fig.text(0.5, 0.04, label, ha='center')\n",
    "    \n",
    "\n",
    "    if show:\n",
    "        plt.show()\n",
    "    else:\n",
    "        plt.savefig(path)\n",
    "        plt.close()"
   ]
  },
  {
   "cell_type": "code",
   "execution_count": null,
   "metadata": {
    "colab": {
     "autoexec": {
      "startup": false,
      "wait_interval": 0
     }
    },
    "colab_type": "code",
    "collapsed": true,
    "id": "tDz1nP9e05QI"
   },
   "outputs": [],
   "source": [
    "def train(epoch):\n",
    "    loss = torch.nn.BCELoss()\n",
    "    D_losses =[]\n",
    "    G_losses =[]\n",
    "    for batch_idx, (data, _) in enumerate(train_loader):\n",
    "        # Training Discriminator \n",
    "        if batch_idx % 100 ==0:\n",
    "            data = data.view(-1, 28*28)\n",
    "            batch_size = data.size()[0]\n",
    "            data = Variable(data)\n",
    "            \n",
    "            #Create the real and fake target variables and the noisy input for generator\n",
    "            y_real = Variable(torch.ones(batch_size)) + (Variable(torch.randn(batch_size)) - 0.5*Variable(torch.ones(batch_size)))*0.1\n",
    "            y_fake = Variable(torch.zeros(batch_size)) + (Variable(torch.randn(batch_size)) - 0.5*Variable(torch.ones(batch_size)))*0.1\n",
    "            if use_cuda:\n",
    "                data, y_real, y_fake = data.cuda(),  y_real.cuda(), y_fake.cuda()\n",
    "\n",
    "            z = Variable(torch.randn(batch_size, noise_dimension))\n",
    "            if use_cuda:\n",
    "                z= z.cuda()\n",
    "            \n",
    "            # Evaluate the outputs of fake and real images using discriminator           \n",
    "            # Define real loss and fake loss for the discriminator training                     \n",
    "            D_result = D(data)\n",
    "            D_real_loss = loss(D_result, y_real)\n",
    "            G_result = G(z)\n",
    "            D_result = D(G_result)\n",
    "            D_fake_loss = loss(D_result, y_fake)\n",
    "\n",
    "            D_train_loss = D_real_loss + D_fake_loss\n",
    "            D_optimizer.zero_grad()\n",
    "            D_train_loss.backward()\n",
    "            D_optimizer.step()\n",
    "            D_losses.append(D_train_loss.data[0])\n",
    "\n",
    "        # Training generator \n",
    "        \n",
    "        # Create target variables and the noisy input for generator\n",
    "        z = Variable(torch.randn((batch_size, noise_dimension)))\n",
    "        y = Variable(torch.ones(batch_size))\n",
    "        if use_cuda:\n",
    "            z, y = z.cuda(), y.cuda()\n",
    "        # Evaluate the output of the fake images using discriminator     \n",
    "        # Define discriminator's training loss               \n",
    "        G_result = G(z)\n",
    "        D_result = D(G_result)\n",
    "        G_train_loss = loss(D_result, y)\n",
    "        \n",
    "        G_optimizer.zero_grad() \n",
    "        G_train_loss.backward()\n",
    "        G_optimizer.step()\n",
    "        G_losses.append(G_train_loss.data[0])\n",
    "        \n",
    "        if batch_idx % 30 == 0:\n",
    "            print('Train Epoch: {} [{}/{} ({:.0f}%)]\\tDiscriminator Loss: {:.6f}\\tGenerator Loss: {:.6f}'.format(\n",
    "                epoch, batch_idx * len(data), len(train_loader.dataset),\n",
    "                100. * batch_idx / len(train_loader),D_train_loss.data[0], G_train_loss.data[0]))\n",
    "            \n",
    "    z= Variable(torch.randn((4, noise_dimension)))\n",
    "    if use_cuda:\n",
    "        z = z.cuda()\n",
    "    show_result(epoch, batch_idx, z, show = True)\n",
    "    return torch.mean(torch.FloatTensor(D_losses)), torch.mean(torch.FloatTensor(G_losses))"
   ]
  },
  {
   "cell_type": "code",
   "execution_count": null,
   "metadata": {
    "colab": {
     "autoexec": {
      "startup": false,
      "wait_interval": 0
     },
     "base_uri": "https://localhost:8080/",
     "height": 1639
    },
    "colab_type": "code",
    "collapsed": false,
    "id": "3uDT6qhu05QK",
    "outputId": "9a3edb3d-56cc-4901-91b3-1bcfb2346ec4"
   },
   "outputs": [],
   "source": [
    "# Training Steps\n",
    "G = generator(input_size = noise_dimension, n_class=28*28)\n",
    "D = discriminator(input_size=28*28, n_class=1)\n",
    "if use_cuda:\n",
    "    G.cuda()\n",
    "    D.cuda()\n",
    "# Adam optimizer\n",
    "G_optimizer = optim.Adam(G.parameters(), lr=lr)\n",
    "D_optimizer = optim.Adam(D.parameters(), lr=lr)\n",
    "\n",
    "D_train_losses =[]\n",
    "G_train_losses =[]\n",
    "\n",
    "\n",
    "for epoch in range(1, training_epoches + 1):\n",
    "    D_loss, G_loss = train(epoch)\n",
    "    D_train_losses.append(D_loss)\n",
    "    G_train_losses.append(G_loss)"
   ]
  },
  {
   "cell_type": "code",
   "execution_count": null,
   "metadata": {
    "colab": {
     "autoexec": {
      "startup": false,
      "wait_interval": 0
     }
    },
    "colab_type": "code",
    "collapsed": true,
    "id": "N4QEYEMs05QO"
   },
   "outputs": [],
   "source": [
    "# Visualize the\n",
    "epoch_number = list(range(1, training_epoches + 1))\n",
    "plt.plot(epoch_number,D_train_losses, 'r' )\n",
    "plt.plot(epoch_number,G_train_losses, 'b' )\n",
    "plt.show()"
   ]
  },
  {
   "cell_type": "markdown",
   "metadata": {
    "colab": {
     "autoexec": {
      "startup": false,
      "wait_interval": 0
     }
    },
    "colab_type": "code",
    "collapsed": true,
    "id": "h7FKZb-905QP"
   },
   "source": [
    "## Reference: \n",
    "    - Guide on training GANs: https://github.com/soumith/ganhacks\n",
    "    - Improved techniques for training GAN: https://arxiv.org/pdf/1606.03498.pdf"
   ]
  },
  {
   "cell_type": "code",
   "execution_count": null,
   "metadata": {
    "collapsed": true
   },
   "outputs": [],
   "source": []
  }
 ],
 "metadata": {
  "accelerator": "GPU",
  "colab": {
   "default_view": {},
   "name": "lab_8_GAN.ipynb",
   "provenance": [],
   "version": "0.3.2",
   "views": {}
  },
  "kernelspec": {
   "display_name": "Python [default]",
   "language": "python",
   "name": "python3"
  },
  "language_info": {
   "codemirror_mode": {
    "name": "ipython",
    "version": 3
   },
   "file_extension": ".py",
   "mimetype": "text/x-python",
   "name": "python",
   "nbconvert_exporter": "python",
   "pygments_lexer": "ipython3",
   "version": "3.5.4"
  }
 },
 "nbformat": 4,
 "nbformat_minor": 0
}
