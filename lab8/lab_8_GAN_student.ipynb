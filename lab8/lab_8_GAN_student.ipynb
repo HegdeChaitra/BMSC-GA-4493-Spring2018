{
 "cells": [
  {
   "cell_type": "markdown",
   "metadata": {
    "colab_type": "text",
    "id": "nxALHPZi05Ph"
   },
   "source": [
    "# Deep Learning in Medicine\n",
    "### BMSC-GA 4493, BMIN-GA 3007 \n",
    "### Lab 8: GAN\n",
    "\n",
    "\n"
   ]
  },
  {
   "cell_type": "markdown",
   "metadata": {
    "colab_type": "text",
    "id": "hqyFDncz05Pm"
   },
   "source": [
    "### Goal of this lab: \n",
    "    - Understand GAN\n",
    "    - Train GAN in the example MNIST classification problem"
   ]
  },
  {
   "cell_type": "markdown",
   "metadata": {
    "colab_type": "text",
    "id": "wKDazwQh05Pp"
   },
   "source": [
    "### Questions: \n",
    "    - What is GAN?\n",
    "    - What are the different types of GANs?"
   ]
  },
  {
   "cell_type": "code",
   "execution_count": 0,
   "metadata": {
    "colab": {
     "autoexec": {
      "startup": false,
      "wait_interval": 0
     }
    },
    "colab_type": "code",
    "collapsed": true,
    "id": "8MSA0S4W05Pr"
   },
   "outputs": [],
   "source": [
    "from __future__ import print_function\n",
    "import pickle \n",
    "import numpy as np\n",
    "import argparse\n",
    "import torch\n",
    "import torch.nn as nn\n",
    "import torch.nn.functional as F\n",
    "import torch.optim as optim\n",
    "from torchvision import datasets, transforms\n",
    "from torch.autograd import Variable\n",
    "import matplotlib.pyplot as plt\n",
    "%matplotlib inline"
   ]
  },
  {
   "cell_type": "code",
   "execution_count": 0,
   "metadata": {
    "colab": {
     "autoexec": {
      "startup": false,
      "wait_interval": 0
     }
    },
    "colab_type": "code",
    "collapsed": true,
    "id": "Xa_9v89B05P1"
   },
   "outputs": [],
   "source": [
    "#Parameters\n",
    "batch_size = 100\n",
    "training_epoches = 100\n",
    "lr =0.001\n",
    "noise_dimension = 100"
   ]
  },
  {
   "cell_type": "code",
   "execution_count": 0,
   "metadata": {
    "colab": {
     "autoexec": {
      "startup": false,
      "wait_interval": 0
     }
    },
    "colab_type": "code",
    "collapsed": true,
    "id": "iAl5kpWR05P7"
   },
   "outputs": [],
   "source": [
    "#torch.manual_seed(717)\n",
    "use_cuda = torch.cuda.is_available()\n",
    "kwargs = {}\n",
    "\n",
    "if use_cuda:\n",
    "    #torch.cuda.manual_seed(717)\n",
    "    kwargs = {'num_workers': 1, 'pin_memory': True} \n",
    "\n",
    "   "
   ]
  },
  {
   "cell_type": "code",
   "execution_count": 0,
   "metadata": {
    "colab": {
     "autoexec": {
      "startup": false,
      "wait_interval": 0
     }
    },
    "colab_type": "code",
    "collapsed": true,
    "id": "e-Gn-pN905P_"
   },
   "outputs": [],
   "source": [
    "# Data Loader\n",
    "train_loader = torch.utils.data.DataLoader(\n",
    "    datasets.MNIST('../data', train=True, download=True,\n",
    "                   transform=transforms.Compose([\n",
    "                       transforms.ToTensor(),\n",
    "                       transforms.Normalize((0.1307,), (0.3081,))\n",
    "                   ])),\n",
    "    batch_size=batch_size, shuffle=True, **kwargs)"
   ]
  },
  {
   "cell_type": "code",
   "execution_count": 1,
   "metadata": {
    "colab": {
     "autoexec": {
      "startup": false,
      "wait_interval": 0
     }
    },
    "colab_type": "code",
    "collapsed": false,
    "id": "PnQ2RQOg05QC"
   },
   "outputs": [
    {
     "ename": "NameError",
     "evalue": "name 'nn' is not defined",
     "output_type": "error",
     "traceback": [
      "\u001b[0;31m---------------------------------------------------------------------------\u001b[0m",
      "\u001b[0;31mNameError\u001b[0m                                 Traceback (most recent call last)",
      "\u001b[0;32m<ipython-input-1-4924f0cb51de>\u001b[0m in \u001b[0;36m<module>\u001b[0;34m()\u001b[0m\n\u001b[1;32m      1\u001b[0m \u001b[0;31m# Generator\u001b[0m\u001b[0;34m\u001b[0m\u001b[0;34m\u001b[0m\u001b[0m\n\u001b[0;32m----> 2\u001b[0;31m \u001b[0;32mclass\u001b[0m \u001b[0mgenerator\u001b[0m\u001b[0;34m(\u001b[0m\u001b[0mnn\u001b[0m\u001b[0;34m.\u001b[0m\u001b[0mModule\u001b[0m\u001b[0;34m)\u001b[0m\u001b[0;34m:\u001b[0m\u001b[0;34m\u001b[0m\u001b[0m\n\u001b[0m\u001b[1;32m      3\u001b[0m     \u001b[0;31m# initializers\u001b[0m\u001b[0;34m\u001b[0m\u001b[0;34m\u001b[0m\u001b[0m\n\u001b[1;32m      4\u001b[0m     \u001b[0;32mdef\u001b[0m \u001b[0m__init__\u001b[0m\u001b[0;34m(\u001b[0m\u001b[0mself\u001b[0m\u001b[0;34m,\u001b[0m \u001b[0minput_size\u001b[0m\u001b[0;34m=\u001b[0m\u001b[0;36m100\u001b[0m\u001b[0;34m,\u001b[0m \u001b[0mn_class\u001b[0m \u001b[0;34m=\u001b[0m \u001b[0;36m28\u001b[0m\u001b[0;34m*\u001b[0m\u001b[0;36m28\u001b[0m\u001b[0;34m)\u001b[0m\u001b[0;34m:\u001b[0m\u001b[0;34m\u001b[0m\u001b[0m\n\u001b[1;32m      5\u001b[0m         \u001b[0msuper\u001b[0m\u001b[0;34m(\u001b[0m\u001b[0mgenerator\u001b[0m\u001b[0;34m,\u001b[0m \u001b[0mself\u001b[0m\u001b[0;34m)\u001b[0m\u001b[0;34m.\u001b[0m\u001b[0m__init__\u001b[0m\u001b[0;34m(\u001b[0m\u001b[0;34m)\u001b[0m\u001b[0;34m\u001b[0m\u001b[0m\n",
      "\u001b[0;31mNameError\u001b[0m: name 'nn' is not defined"
     ]
    }
   ],
   "source": [
    "# Generator\n",
    "class generator(nn.Module):\n",
    "    # initializers\n",
    "    def __init__(self, input_size=100, n_class = 28*28):\n",
    "        super(generator, self).__init__()\n",
    "        self.fc1 = nn.Linear(input_size, 256)\n",
    "        self.fc2 = nn.Linear(self.fc1.out_features, 512)\n",
    "        self.fc3 = nn.Linear(self.fc2.out_features, 1024)\n",
    "        self.fc4 = nn.Linear(self.fc3.out_features, n_class)\n",
    "\n",
    "    # forward method\n",
    "    def forward(self, input):\n",
    "        x = F.leaky_relu(self.fc1(input), 0.2)\n",
    "        x = F.leaky_relu(self.fc2(x), 0.2)\n",
    "        x = F.leaky_relu(self.fc3(x), 0.2)\n",
    "        x = F.tanh(self.fc4(x))\n",
    "        return x\n"
   ]
  },
  {
   "cell_type": "code",
   "execution_count": 2,
   "metadata": {
    "colab": {
     "autoexec": {
      "startup": false,
      "wait_interval": 0
     }
    },
    "colab_type": "code",
    "collapsed": false,
    "id": "HqL4WpNS05QE"
   },
   "outputs": [
    {
     "ename": "NameError",
     "evalue": "name 'nn' is not defined",
     "output_type": "error",
     "traceback": [
      "\u001b[0;31m---------------------------------------------------------------------------\u001b[0m",
      "\u001b[0;31mNameError\u001b[0m                                 Traceback (most recent call last)",
      "\u001b[0;32m<ipython-input-2-2bc3e0232904>\u001b[0m in \u001b[0;36m<module>\u001b[0;34m()\u001b[0m\n\u001b[0;32m----> 1\u001b[0;31m \u001b[0;32mclass\u001b[0m \u001b[0mdiscriminator\u001b[0m\u001b[0;34m(\u001b[0m\u001b[0mnn\u001b[0m\u001b[0;34m.\u001b[0m\u001b[0mModule\u001b[0m\u001b[0;34m)\u001b[0m\u001b[0;34m:\u001b[0m\u001b[0;34m\u001b[0m\u001b[0m\n\u001b[0m\u001b[1;32m      2\u001b[0m     \u001b[0;31m# initializers\u001b[0m\u001b[0;34m\u001b[0m\u001b[0;34m\u001b[0m\u001b[0m\n\u001b[1;32m      3\u001b[0m     \u001b[0;32mdef\u001b[0m \u001b[0m__init__\u001b[0m\u001b[0;34m(\u001b[0m\u001b[0mself\u001b[0m\u001b[0;34m,\u001b[0m \u001b[0minput_size\u001b[0m\u001b[0;34m=\u001b[0m \u001b[0;36m28\u001b[0m\u001b[0;34m*\u001b[0m\u001b[0;36m28\u001b[0m\u001b[0;34m,\u001b[0m \u001b[0mn_class\u001b[0m\u001b[0;34m=\u001b[0m\u001b[0;36m1\u001b[0m\u001b[0;34m)\u001b[0m\u001b[0;34m:\u001b[0m\u001b[0;34m\u001b[0m\u001b[0m\n\u001b[1;32m      4\u001b[0m         \u001b[0msuper\u001b[0m\u001b[0;34m(\u001b[0m\u001b[0mdiscriminator\u001b[0m\u001b[0;34m,\u001b[0m \u001b[0mself\u001b[0m\u001b[0;34m)\u001b[0m\u001b[0;34m.\u001b[0m\u001b[0m__init__\u001b[0m\u001b[0;34m(\u001b[0m\u001b[0;34m)\u001b[0m\u001b[0;34m\u001b[0m\u001b[0m\n\u001b[1;32m      5\u001b[0m         \u001b[0mself\u001b[0m\u001b[0;34m.\u001b[0m\u001b[0mfc1\u001b[0m \u001b[0;34m=\u001b[0m \u001b[0mnn\u001b[0m\u001b[0;34m.\u001b[0m\u001b[0mLinear\u001b[0m\u001b[0;34m(\u001b[0m\u001b[0minput_size\u001b[0m\u001b[0;34m,\u001b[0m \u001b[0;36m1024\u001b[0m\u001b[0;34m)\u001b[0m\u001b[0;34m\u001b[0m\u001b[0m\n",
      "\u001b[0;31mNameError\u001b[0m: name 'nn' is not defined"
     ]
    }
   ],
   "source": [
    "class discriminator(nn.Module):\n",
    "    # initializers\n",
    "    def __init__(self, input_size= 28*28, n_class=1):\n",
    "        super(discriminator, self).__init__()\n",
    "        self.fc1 = nn.Linear(input_size, 1024)\n",
    "        self.fc2 = nn.Linear(self.fc1.out_features, 512)\n",
    "        self.fc3 = nn.Linear(self.fc2.out_features, 256)\n",
    "        self.fc4 = nn.Linear(self.fc3.out_features, n_class)\n",
    "\n",
    "    # forward method\n",
    "    def forward(self, input):\n",
    "        x = F.leaky_relu(self.fc1(input), 0.2)\n",
    "        x = F.dropout(x, 0.3)\n",
    "        x = F.leaky_relu(self.fc2(x), 0.2)\n",
    "        x = F.dropout(x, 0.3)\n",
    "        x = F.leaky_relu(self.fc3(x), 0.2)\n",
    "        x = F.dropout(x, 0.3)\n",
    "        x = F.sigmoid(self.fc4(x))\n",
    "\n",
    "        return x"
   ]
  },
  {
   "cell_type": "code",
   "execution_count": 0,
   "metadata": {
    "colab": {
     "autoexec": {
      "startup": false,
      "wait_interval": 0
     }
    },
    "colab_type": "code",
    "collapsed": true,
    "id": "fcITT3lS05QG"
   },
   "outputs": [],
   "source": [
    "def show_result(num_epoch, batch_index, z, show = True, save = False, path = 'generated.png'):\n",
    "    G.eval()\n",
    "    test_images = G(z)\n",
    "    G.train()\n",
    "    \n",
    "    size_figure_grid = 2\n",
    "    fig, ax = plt.subplots(size_figure_grid, size_figure_grid, figsize=(2, 2))\n",
    "    for i in range(2):\n",
    "        for j in range(1): \n",
    "            ax[i, j].get_xaxis().set_visible(False)\n",
    "            ax[i, j].get_yaxis().set_visible(False)\n",
    "\n",
    "    for k in range(4):\n",
    "        i = k // 2\n",
    "        j = k % 2\n",
    "        ax[i, j].cla()\n",
    "        ax[i, j].imshow(test_images[k, :].cpu().data.view(28, 28).numpy(), cmap='gray')\n",
    "\n",
    "    label = 'Epoch {0}'.format(num_epoch)\n",
    "    fig.text(0.5, 0.04, label, ha='center')\n",
    "    \n",
    "\n",
    "    if show:\n",
    "        plt.show()\n",
    "    else:\n",
    "        plt.savefig(path)\n",
    "        plt.close()"
   ]
  },
  {
   "cell_type": "code",
   "execution_count": 3,
   "metadata": {
    "colab": {
     "autoexec": {
      "startup": false,
      "wait_interval": 0
     }
    },
    "colab_type": "code",
    "collapsed": true,
    "id": "tDz1nP9e05QI"
   },
   "outputs": [],
   "source": [
    "def train(epoch):\n",
    "    loss = torch.nn.BCELoss()\n",
    "    D_losses =[]\n",
    "    G_losses =[]\n",
    "    for batch_idx, (data, _) in enumerate(train_loader):\n",
    "        # Training Discriminator \n",
    "        if batch_idx % 100 ==0:\n",
    "            data = data.view(-1, 28*28)\n",
    "            batch_size = data.size()[0]\n",
    "            data = Variable(data)\n",
    "            \n",
    "            #Create the real and fake target variables and the noisy input for generator\n",
    "            \n",
    "            # Evaluate the outputs of fake and real images using discriminator\n",
    "            \n",
    "            # Define real loss and fake loss for the discriminator training\n",
    "            D_real_loss = None\n",
    "            D_fake_loss = None\n",
    "            \n",
    "            \n",
    "            D_train_loss = D_real_loss + D_fake_loss\n",
    "            D_optimizer.zero_grad()\n",
    "            D_train_loss.backward()\n",
    "            D_optimizer.step()\n",
    "            D_losses.append(D_train_loss.data[0])\n",
    "\n",
    "        # Training generator \n",
    "        \n",
    "        # Create target variables and the noisy input for generator\n",
    "        \n",
    "        # Evaluate the output of the fake images using discriminator\n",
    "        \n",
    "        # Define discriminator's training loss \n",
    "        \n",
    "        G_optimizer.zero_grad() \n",
    "        G_train_loss.backward()\n",
    "        G_optimizer.step()\n",
    "        G_losses.append(G_train_loss.data[0])\n",
    "        \n",
    "        if batch_idx % 30 == 0:\n",
    "            print('Train Epoch: {} [{}/{} ({:.0f}%)]\\tDiscriminator Loss: {:.6f}\\tGenerator Loss: {:.6f}'.format(\n",
    "                epoch, batch_idx * len(data), len(train_loader.dataset),\n",
    "                100. * batch_idx / len(train_loader),D_train_loss.data[0], G_train_loss.data[0]))\n",
    "            \n",
    "    z= Variable(torch.randn((4, noise_dimension)))\n",
    "    if use_cuda:\n",
    "        z = z.cuda()\n",
    "    show_result(epoch, batch_idx, z, show = True)\n",
    "    return torch.mean(torch.FloatTensor(D_losses)), torch.mean(torch.FloatTensor(G_losses))"
   ]
  },
  {
   "cell_type": "code",
   "execution_count": 0,
   "metadata": {
    "colab": {
     "autoexec": {
      "startup": false,
      "wait_interval": 0
     },
     "base_uri": "https://localhost:8080/",
     "height": 1639
    },
    "colab_type": "code",
    "collapsed": false,
    "id": "3uDT6qhu05QK",
    "outputId": "9a3edb3d-56cc-4901-91b3-1bcfb2346ec4"
   },
   "outputs": [
    {
     "name": "stderr",
     "output_type": "stream",
     "text": [
      "/usr/local/lib/python3.6/dist-packages/torch/nn/functional.py:1168: UserWarning: Using a target size (torch.Size([100])) that is different to the input size (torch.Size([100, 1])) is deprecated. Please ensure they have the same size.\n",
      "  \"Please ensure they have the same size.\".format(target.size(), input.size()))\n"
     ]
    },
    {
     "name": "stdout",
     "output_type": "stream",
     "text": [
      "Train Epoch: 1 [0/60000 (0%)]\tDiscriminator Loss: 1.392575\tGenerator Loss: 0.730929\n",
      "Train Epoch: 1 [3000/60000 (5%)]\tDiscriminator Loss: 1.392575\tGenerator Loss: 0.725819\n",
      "Train Epoch: 1 [6000/60000 (10%)]\tDiscriminator Loss: 1.389959\tGenerator Loss: 0.736906\n",
      "Train Epoch: 1 [9000/60000 (15%)]\tDiscriminator Loss: 1.389959\tGenerator Loss: 0.682080\n",
      "Train Epoch: 1 [12000/60000 (20%)]\tDiscriminator Loss: 1.484548\tGenerator Loss: 0.640531\n",
      "Train Epoch: 1 [15000/60000 (25%)]\tDiscriminator Loss: 1.540147\tGenerator Loss: 0.713538\n",
      "Train Epoch: 1 [18000/60000 (30%)]\tDiscriminator Loss: 1.540147\tGenerator Loss: 0.649326\n",
      "Train Epoch: 1 [21000/60000 (35%)]\tDiscriminator Loss: 1.547572\tGenerator Loss: 0.689514\n",
      "Train Epoch: 1 [24000/60000 (40%)]\tDiscriminator Loss: 1.547572\tGenerator Loss: 0.650691\n",
      "Train Epoch: 1 [27000/60000 (45%)]\tDiscriminator Loss: 1.530825\tGenerator Loss: 0.682454\n",
      "Train Epoch: 1 [30000/60000 (50%)]\tDiscriminator Loss: 1.504109\tGenerator Loss: 0.731925\n",
      "Train Epoch: 1 [33000/60000 (55%)]\tDiscriminator Loss: 1.504109\tGenerator Loss: 0.675903\n",
      "Train Epoch: 1 [36000/60000 (60%)]\tDiscriminator Loss: 1.506063\tGenerator Loss: 0.692697\n",
      "Train Epoch: 1 [39000/60000 (65%)]\tDiscriminator Loss: 1.506063\tGenerator Loss: 0.674861\n",
      "Train Epoch: 1 [42000/60000 (70%)]\tDiscriminator Loss: 1.492669\tGenerator Loss: 0.677577\n",
      "Train Epoch: 1 [45000/60000 (75%)]\tDiscriminator Loss: 1.494818\tGenerator Loss: 0.727301\n",
      "Train Epoch: 1 [48000/60000 (80%)]\tDiscriminator Loss: 1.494818\tGenerator Loss: 0.716475\n",
      "Train Epoch: 1 [51000/60000 (85%)]\tDiscriminator Loss: 1.477363\tGenerator Loss: 0.721464\n",
      "Train Epoch: 1 [54000/60000 (90%)]\tDiscriminator Loss: 1.477363\tGenerator Loss: 0.689471\n",
      "Train Epoch: 1 [57000/60000 (95%)]\tDiscriminator Loss: 1.468757\tGenerator Loss: 0.712492\n"
     ]
    },
    {
     "data": {
      "image/png": "[encoded data removed]",
      "text/plain": [
       "<matplotlib.figure.Figure at 0x7fb05ac464e0>"
      ]
     },
     "metadata": {
      "tags": []
     },
     "output_type": "display_data"
    },
    {
     "name": "stdout",
     "output_type": "stream",
     "text": [
      "Train Epoch: 2 [0/60000 (0%)]\tDiscriminator Loss: 1.449642\tGenerator Loss: 0.737663\n",
      "Train Epoch: 2 [3000/60000 (5%)]\tDiscriminator Loss: 1.449642\tGenerator Loss: 0.703386\n",
      "Train Epoch: 2 [6000/60000 (10%)]\tDiscriminator Loss: 1.431645\tGenerator Loss: 0.733300\n",
      "Train Epoch: 2 [9000/60000 (15%)]\tDiscriminator Loss: 1.431645\tGenerator Loss: 0.696268\n",
      "Train Epoch: 2 [12000/60000 (20%)]\tDiscriminator Loss: 1.452936\tGenerator Loss: 0.716096\n",
      "Train Epoch: 2 [15000/60000 (25%)]\tDiscriminator Loss: 1.439828\tGenerator Loss: 0.722807\n",
      "Train Epoch: 2 [18000/60000 (30%)]\tDiscriminator Loss: 1.439828\tGenerator Loss: 0.686715\n",
      "Train Epoch: 2 [21000/60000 (35%)]\tDiscriminator Loss: 1.464474\tGenerator Loss: 0.715748\n",
      "Train Epoch: 2 [24000/60000 (40%)]\tDiscriminator Loss: 1.464474\tGenerator Loss: 0.705779\n",
      "Train Epoch: 2 [27000/60000 (45%)]\tDiscriminator Loss: 1.435304\tGenerator Loss: 0.713826\n",
      "Train Epoch: 2 [30000/60000 (50%)]\tDiscriminator Loss: 1.418518\tGenerator Loss: 0.742166\n",
      "Train Epoch: 2 [33000/60000 (55%)]\tDiscriminator Loss: 1.418518\tGenerator Loss: 0.717565\n",
      "Train Epoch: 2 [36000/60000 (60%)]\tDiscriminator Loss: 1.413308\tGenerator Loss: 0.731827\n",
      "Train Epoch: 2 [39000/60000 (65%)]\tDiscriminator Loss: 1.413308\tGenerator Loss: 0.709917\n",
      "Train Epoch: 2 [42000/60000 (70%)]\tDiscriminator Loss: 1.409475\tGenerator Loss: 0.723750\n",
      "Train Epoch: 2 [45000/60000 (75%)]\tDiscriminator Loss: 1.403678\tGenerator Loss: 0.739917\n",
      "Train Epoch: 2 [48000/60000 (80%)]\tDiscriminator Loss: 1.403678\tGenerator Loss: 0.721277\n",
      "Train Epoch: 2 [51000/60000 (85%)]\tDiscriminator Loss: 1.402811\tGenerator Loss: 0.731295\n",
      "Train Epoch: 2 [54000/60000 (90%)]\tDiscriminator Loss: 1.402811\tGenerator Loss: 0.721710\n",
      "Train Epoch: 2 [57000/60000 (95%)]\tDiscriminator Loss: 1.403058\tGenerator Loss: 0.729192\n"
     ]
    },
    {
     "data": {
      "image/png": "[encoded data removed]",
      "text/plain": [
       "<matplotlib.figure.Figure at 0x7fb06fbefcf8>"
      ]
     },
     "metadata": {
      "tags": []
     },
     "output_type": "display_data"
    },
    {
     "name": "stdout",
     "output_type": "stream",
     "text": [
      "Train Epoch: 3 [0/60000 (0%)]\tDiscriminator Loss: 1.404059\tGenerator Loss: 0.742158\n",
      "Train Epoch: 3 [3000/60000 (5%)]\tDiscriminator Loss: 1.404059\tGenerator Loss: 0.723933\n",
      "Train Epoch: 3 [6000/60000 (10%)]\tDiscriminator Loss: 1.406996\tGenerator Loss: 0.730890\n",
      "Train Epoch: 3 [9000/60000 (15%)]\tDiscriminator Loss: 1.406996\tGenerator Loss: 0.724618\n",
      "Train Epoch: 3 [12000/60000 (20%)]\tDiscriminator Loss: 1.407310\tGenerator Loss: 0.726194\n",
      "Train Epoch: 3 [15000/60000 (25%)]\tDiscriminator Loss: 1.411621\tGenerator Loss: 0.747265\n",
      "Train Epoch: 3 [18000/60000 (30%)]\tDiscriminator Loss: 1.411621\tGenerator Loss: 0.731507\n",
      "Train Epoch: 3 [21000/60000 (35%)]\tDiscriminator Loss: 1.411512\tGenerator Loss: 0.733986\n",
      "Train Epoch: 3 [24000/60000 (40%)]\tDiscriminator Loss: 1.411512\tGenerator Loss: 0.722830\n",
      "Train Epoch: 3 [27000/60000 (45%)]\tDiscriminator Loss: 1.388523\tGenerator Loss: 0.736874\n",
      "Train Epoch: 3 [30000/60000 (50%)]\tDiscriminator Loss: 1.396522\tGenerator Loss: 0.750614\n",
      "Train Epoch: 3 [33000/60000 (55%)]\tDiscriminator Loss: 1.396522\tGenerator Loss: 0.737539\n",
      "Train Epoch: 3 [36000/60000 (60%)]\tDiscriminator Loss: 1.399637\tGenerator Loss: 0.750461\n",
      "Train Epoch: 3 [39000/60000 (65%)]\tDiscriminator Loss: 1.399637\tGenerator Loss: 0.743868\n",
      "Train Epoch: 3 [42000/60000 (70%)]\tDiscriminator Loss: 1.373804\tGenerator Loss: 0.747887\n",
      "Train Epoch: 3 [45000/60000 (75%)]\tDiscriminator Loss: 1.373903\tGenerator Loss: 0.755939\n",
      "Train Epoch: 3 [48000/60000 (80%)]\tDiscriminator Loss: 1.373903\tGenerator Loss: 0.751351\n",
      "Train Epoch: 3 [51000/60000 (85%)]\tDiscriminator Loss: 1.378686\tGenerator Loss: 0.755595\n",
      "Train Epoch: 3 [54000/60000 (90%)]\tDiscriminator Loss: 1.378686\tGenerator Loss: 0.758441\n",
      "Train Epoch: 3 [57000/60000 (95%)]\tDiscriminator Loss: 1.387426\tGenerator Loss: 0.752550\n"
     ]
    },
    {
     "data": {
      "image/png": "[encoded data removed]",
      "text/plain": [
       "<matplotlib.figure.Figure at 0x7fb05a2c8518>"
      ]
     },
     "metadata": {
      "tags": []
     },
     "output_type": "display_data"
    },
    {
     "name": "stdout",
     "output_type": "stream",
     "text": [
      "Train Epoch: 4 [0/60000 (0%)]\tDiscriminator Loss: 1.363702\tGenerator Loss: 0.768361\n",
      "Train Epoch: 4 [3000/60000 (5%)]\tDiscriminator Loss: 1.363702\tGenerator Loss: 0.761596\n",
      "Train Epoch: 4 [6000/60000 (10%)]\tDiscriminator Loss: 1.381477\tGenerator Loss: 0.764599\n",
      "Train Epoch: 4 [9000/60000 (15%)]\tDiscriminator Loss: 1.381477\tGenerator Loss: 0.750780\n",
      "Train Epoch: 4 [12000/60000 (20%)]\tDiscriminator Loss: 1.378536\tGenerator Loss: 0.756832\n",
      "Train Epoch: 4 [15000/60000 (25%)]\tDiscriminator Loss: 1.366530\tGenerator Loss: 0.762463\n",
      "Train Epoch: 4 [18000/60000 (30%)]\tDiscriminator Loss: 1.366530\tGenerator Loss: 0.752696\n"
     ]
    }
   ],
   "source": [
    "# Training Steps\n",
    "G = generator(input_size = noise_dimension, n_class=28*28)\n",
    "D = discriminator(input_size=28*28, n_class=1)\n",
    "if use_cuda:\n",
    "    G.cuda()\n",
    "    D.cuda()\n",
    "# Adam optimizer\n",
    "G_optimizer = optim.Adam(G.parameters(), lr=lr)\n",
    "D_optimizer = optim.Adam(D.parameters(), lr=lr)\n",
    "\n",
    "D_train_losses =[]\n",
    "G_train_losses =[]\n",
    "\n",
    "\n",
    "for epoch in range(1, training_epoches + 1):\n",
    "    D_loss, G_loss = train(epoch)\n",
    "    D_train_losses.append(D_loss)\n",
    "    G_train_losses.append(G_loss)"
   ]
  },
  {
   "cell_type": "code",
   "execution_count": 0,
   "metadata": {
    "colab": {
     "autoexec": {
      "startup": false,
      "wait_interval": 0
     }
    },
    "colab_type": "code",
    "collapsed": true,
    "id": "N4QEYEMs05QO"
   },
   "outputs": [],
   "source": [
    "# Visualize the\n",
    "epoch_number = list(range(1, training_epoches + 1))\n",
    "plt.plot(epoch_number,D_train_losses, 'r' )\n",
    "plt.plot(epoch_number,G_train_losses, 'b' )\n",
    "plt.show()"
   ]
  },
  {
   "cell_type": "code",
   "execution_count": 0,
   "metadata": {
    "colab": {
     "autoexec": {
      "startup": false,
      "wait_interval": 0
     }
    },
    "colab_type": "code",
    "collapsed": true,
    "id": "h7FKZb-905QP"
   },
   "outputs": [],
   "source": []
  }
 ],
 "metadata": {
  "accelerator": "GPU",
  "colab": {
   "default_view": {},
   "name": "lab_8_GAN.ipynb",
   "provenance": [],
   "version": "0.3.2",
   "views": {}
  },
  "kernelspec": {
   "display_name": "Python [default]",
   "language": "python",
   "name": "python3"
  },
  "language_info": {
   "codemirror_mode": {
    "name": "ipython",
    "version": 3
   },
   "file_extension": ".py",
   "mimetype": "text/x-python",
   "name": "python",
   "nbconvert_exporter": "python",
   "pygments_lexer": "ipython3",
   "version": "3.5.4"
  }
 },
 "nbformat": 4,
 "nbformat_minor": 0
}
