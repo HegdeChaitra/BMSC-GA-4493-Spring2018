{
 "cells": [
  {
   "cell_type": "markdown",
   "metadata": {},
   "source": [
    "# Deep Learning in Medicine\n",
    "### BMSC-GA 4493, BMIN-GA 3007 \n",
    "### Lab 6: Regularization\n",
    "\n",
    "\n"
   ]
  },
  {
   "cell_type": "markdown",
   "metadata": {},
   "source": [
    "### Goal of this lab: \n",
    "    - Understand Regularization Methods \n",
    "    - Apply them in the example MNIST classification problem"
   ]
  },
  {
   "cell_type": "markdown",
   "metadata": {},
   "source": [
    "### Questions: \n",
    "    - What is regularization?\n",
    "    - What problem is regularization trying to solve?\n",
    "    - What are some of the regularization methods?"
   ]
  },
  {
   "cell_type": "code",
   "execution_count": 18,
   "metadata": {
    "collapsed": true
   },
   "outputs": [],
   "source": [
    "from __future__ import print_function\n",
    "import pickle \n",
    "import numpy as np\n",
    "import argparse\n",
    "import torch\n",
    "import torch.nn as nn\n",
    "import torch.nn.functional as F\n",
    "import torch.optim as optim\n",
    "from torchvision import datasets, transforms\n",
    "from torch.autograd import Variable\n",
    "import matplotlib.pyplot as plt\n",
    "%matplotlib inline"
   ]
  },
  {
   "cell_type": "code",
   "execution_count": 32,
   "metadata": {
    "collapsed": true
   },
   "outputs": [],
   "source": [
    "#Parameters\n",
    "batch_size = 20\n",
    "test_batch_size = 20\n",
    "training_epoches = 20"
   ]
  },
  {
   "cell_type": "code",
   "execution_count": 34,
   "metadata": {
    "collapsed": false
   },
   "outputs": [],
   "source": [
    "torch.manual_seed(717)\n",
    "use_cuda = torch.cuda.is_available()\n",
    "kwargs = {}\n",
    "\n",
    "if use_cuda:\n",
    "    torch.cuda.manual_seed(717)\n",
    "    kwargs = {'num_workers': 1, 'pin_memory': True} \n",
    "\n",
    "   "
   ]
  },
  {
   "cell_type": "code",
   "execution_count": 35,
   "metadata": {
    "collapsed": false
   },
   "outputs": [],
   "source": [
    "# Data Loader\n",
    "train_loader = torch.utils.data.DataLoader(\n",
    "    datasets.MNIST('../data', train=True, download=True,\n",
    "                   transform=transforms.Compose([\n",
    "                       transforms.ToTensor(),\n",
    "                       transforms.Normalize((0.1307,), (0.3081,))\n",
    "                   ])),\n",
    "    batch_size=batch_size, shuffle=True, **kwargs)\n",
    "\n",
    "test_loader = torch.utils.data.DataLoader(\n",
    "    datasets.MNIST('../data', train=False, transform=transforms.Compose([\n",
    "                       transforms.ToTensor(),\n",
    "                       transforms.Normalize((0.1307,), (0.3081,))\n",
    "                   ])),\n",
    "    batch_size=test_batch_size, shuffle=True, **kwargs)"
   ]
  },
  {
   "cell_type": "code",
   "execution_count": 12,
   "metadata": {
    "collapsed": false
   },
   "outputs": [],
   "source": [
    "# Simple Neural Network Design\n",
    "class Net(nn.Module):\n",
    "    def __init__(self):\n",
    "        super(Net, self).__init__()\n",
    "        self.conv1 = nn.Conv2d(1, 10, kernel_size=5)\n",
    "        self.conv2 = nn.Conv2d(10, 20, kernel_size=5)\n",
    "        self.fc1 = nn.Linear(320, 50)\n",
    "        self.fc2 = nn.Linear(50, 10)\n",
    "\n",
    "    def forward(self, x):\n",
    "        x = F.relu(F.max_pool2d(self.conv1(x), 2))\n",
    "        x = F.relu(F.max_pool2d(self.conv2(x), 2))\n",
    "        x = x.view(-1, 320)\n",
    "        x = F.relu(self.fc1(x))\n",
    "        x = F.relu(self.fc2(x))\n",
    "        return F.log_softmax(x)\n"
   ]
  },
  {
   "cell_type": "code",
   "execution_count": 46,
   "metadata": {
    "collapsed": false
   },
   "outputs": [],
   "source": [
    "# Training Steps\n",
    "def train(epoch):\n",
    "    model.train()\n",
    "    train_loss = 0\n",
    "    for batch_idx, (data, target) in enumerate(train_loader):\n",
    "        if use_cuda:\n",
    "            data, target = data.cuda(), target.cuda()\n",
    "        data, target = Variable(data), Variable(target)\n",
    "        optimizer.zero_grad()\n",
    "        output = model(data)\n",
    "        loss = F.nll_loss(output, target)\n",
    "        loss.backward()\n",
    "        optimizer.step()\n",
    "        if batch_idx % 5000 == 0:\n",
    "            print('Train Epoch: {} [{}/{} ({:.0f}%)]\\tLoss: {:.6f}'.format(\n",
    "                epoch, batch_idx * len(data), len(train_loader.dataset),\n",
    "                100. * batch_idx / len(train_loader), loss.data[0]))\n",
    "        train_loss += loss.data[0]\n",
    "    train_loss /=len(train_loader)\n",
    "    return train_loss"
   ]
  },
  {
   "cell_type": "code",
   "execution_count": 27,
   "metadata": {
    "collapsed": false
   },
   "outputs": [],
   "source": [
    "# Validation/Test Steps\n",
    "def test(epoch, valid_loader):\n",
    "    model.eval()\n",
    "    test_loss = 0\n",
    "    correct = 0\n",
    "    for data, target in valid_loader:\n",
    "        if use_cuda:\n",
    "            data, target = data.cuda(), target.cuda()\n",
    "        data, target = Variable(data, volatile=True), Variable(target)\n",
    "        output = model(data)\n",
    "        test_loss += F.nll_loss(output, target).data[0]\n",
    "        pred = output.data.max(1)[1] # get the index of the max log-probability\n",
    "        correct += pred.eq(target.data).cpu().sum()\n",
    "\n",
    "    test_loss /= len(valid_loader) # loss function already averages over batch size\n",
    "    print('\\nTest set: Average loss: {:.4f}, Accuracy: {}/{} ({:.0f}%)\\n'.format(\n",
    "        test_loss, correct, len(valid_loader.dataset),\n",
    "        100. * correct / len(valid_loader.dataset)))\n",
    "    \n",
    "    return test_loss\n"
   ]
  },
  {
   "cell_type": "code",
   "execution_count": 33,
   "metadata": {
    "collapsed": false
   },
   "outputs": [
    {
     "name": "stderr",
     "output_type": "stream",
     "text": [
      "/Users/jingyi/anaconda3/lib/python3.5/site-packages/ipykernel/__main__.py:19: UserWarning: Implicit dimension choice for log_softmax has been deprecated. Change the call to include dim=X as an argument.\n"
     ]
    },
    {
     "name": "stdout",
     "output_type": "stream",
     "text": [
      "Train Epoch: 1 [0/60000 (0%)]\tLoss: 2.239651\n",
      "\n",
      "Test set: Average loss: 0.0984, Accuracy: 9679/10000 (97%)\n",
      "\n",
      "Train Epoch: 2 [0/60000 (0%)]\tLoss: 0.001666\n",
      "\n",
      "Test set: Average loss: 0.0425, Accuracy: 9858/10000 (99%)\n",
      "\n",
      "Train Epoch: 3 [0/60000 (0%)]\tLoss: 0.006861\n",
      "\n",
      "Test set: Average loss: 0.0364, Accuracy: 9885/10000 (99%)\n",
      "\n",
      "Train Epoch: 4 [0/60000 (0%)]\tLoss: 0.000030\n",
      "\n",
      "Test set: Average loss: 0.0362, Accuracy: 9883/10000 (99%)\n",
      "\n",
      "Train Epoch: 5 [0/60000 (0%)]\tLoss: 0.000296\n",
      "\n",
      "Test set: Average loss: 0.0319, Accuracy: 9901/10000 (99%)\n",
      "\n",
      "Train Epoch: 6 [0/60000 (0%)]\tLoss: 0.000433\n",
      "\n",
      "Test set: Average loss: 0.0449, Accuracy: 9875/10000 (99%)\n",
      "\n",
      "Train Epoch: 7 [0/60000 (0%)]\tLoss: 0.000070\n",
      "\n",
      "Test set: Average loss: 0.0373, Accuracy: 9889/10000 (99%)\n",
      "\n",
      "Train Epoch: 8 [0/60000 (0%)]\tLoss: 0.000035\n",
      "\n",
      "Test set: Average loss: 0.0346, Accuracy: 9899/10000 (99%)\n",
      "\n",
      "Train Epoch: 9 [0/60000 (0%)]\tLoss: 0.000104\n",
      "\n",
      "Test set: Average loss: 0.0345, Accuracy: 9899/10000 (99%)\n",
      "\n",
      "Train Epoch: 10 [0/60000 (0%)]\tLoss: 0.000105\n",
      "\n",
      "Test set: Average loss: 0.0375, Accuracy: 9891/10000 (99%)\n",
      "\n",
      "Train Epoch: 11 [0/60000 (0%)]\tLoss: 0.000518\n",
      "\n",
      "Test set: Average loss: 0.0405, Accuracy: 9890/10000 (99%)\n",
      "\n",
      "Train Epoch: 12 [0/60000 (0%)]\tLoss: 0.000005\n",
      "\n",
      "Test set: Average loss: 0.0417, Accuracy: 9904/10000 (99%)\n",
      "\n",
      "Train Epoch: 13 [0/60000 (0%)]\tLoss: 0.000017\n",
      "\n",
      "Test set: Average loss: 0.0436, Accuracy: 9893/10000 (99%)\n",
      "\n",
      "Train Epoch: 14 [0/60000 (0%)]\tLoss: 0.231247\n",
      "\n",
      "Test set: Average loss: 0.0505, Accuracy: 9892/10000 (99%)\n",
      "\n",
      "Train Epoch: 15 [0/60000 (0%)]\tLoss: 0.000414\n",
      "\n",
      "Test set: Average loss: 0.0563, Accuracy: 9862/10000 (99%)\n",
      "\n",
      "Train Epoch: 16 [0/60000 (0%)]\tLoss: 0.000004\n",
      "\n",
      "Test set: Average loss: 0.0498, Accuracy: 9888/10000 (99%)\n",
      "\n",
      "Train Epoch: 17 [0/60000 (0%)]\tLoss: 0.000000\n",
      "\n",
      "Test set: Average loss: 0.0501, Accuracy: 9891/10000 (99%)\n",
      "\n",
      "Train Epoch: 18 [0/60000 (0%)]\tLoss: 0.000002\n",
      "\n",
      "Test set: Average loss: 0.0440, Accuracy: 9908/10000 (99%)\n",
      "\n",
      "Train Epoch: 19 [0/60000 (0%)]\tLoss: 0.000024\n",
      "\n",
      "Test set: Average loss: 0.0500, Accuracy: 9885/10000 (99%)\n",
      "\n",
      "Train Epoch: 20 [0/60000 (0%)]\tLoss: 0.000000\n",
      "\n",
      "Test set: Average loss: 0.0512, Accuracy: 9892/10000 (99%)\n",
      "\n"
     ]
    }
   ],
   "source": [
    "model = Net()\n",
    "if use_cuda:\n",
    "    model.cuda()\n",
    "#Optimizor \n",
    "optimizer = optim.SGD(model.parameters(),lr=0.01, momentum=0.5)\n",
    "\n",
    "train_losses =[]\n",
    "test_losses =[]\n",
    "for epoch in range(1, training_epoches + 1):\n",
    "    train_losses.append(train(epoch))\n",
    "    test_losses.append(test(epoch, test_loader))"
   ]
  },
  {
   "cell_type": "code",
   "execution_count": 38,
   "metadata": {
    "collapsed": false
   },
   "outputs": [
    {
     "data": {
      "image/png": "[encoded data removed]",
      "text/plain": [
       "<matplotlib.figure.Figure at 0x1296b6780>"
      ]
     },
     "metadata": {},
     "output_type": "display_data"
    }
   ],
   "source": [
    "epoch_number = list(range(1, training_epoches + 1))\n",
    "plt.plot(epoch_number,train_losses, 'r' )\n",
    "plt.plot(epoch_number,test_losses, 'b' )\n",
    "plt.show()"
   ]
  },
  {
   "cell_type": "markdown",
   "metadata": {},
   "source": [
    "### Question: What does this graph show? And how to solve it?"
   ]
  },
  {
   "cell_type": "markdown",
   "metadata": {},
   "source": [
    "## Method 1: Add Dropout Layers\n",
    "Reference: Dropout: A Simple Way to Prevent Neural Networks from Overfitting, https://www.cs.toronto.edu/~hinton/absps/JMLRdropout.pdf"
   ]
  },
  {
   "cell_type": "code",
   "execution_count": 39,
   "metadata": {
    "collapsed": false
   },
   "outputs": [],
   "source": [
    "# Please add your code here\n",
    "# Hint: Add dropout layers in network design\n",
    "\n",
    "class Net(nn.Module):\n",
    "    def __init__(self):\n",
    "        super(Net, self).__init__()\n",
    "        self.conv1 = nn.Conv2d(1, 10, kernel_size=5)\n",
    "        self.conv2 = nn.Conv2d(10, 20, kernel_size=5)\n",
    "        self.conv2_drop = nn.Dropout2d()\n",
    "        self.fc1 = nn.Linear(320, 50)\n",
    "        self.fc2 = nn.Linear(50, 10)\n",
    "\n",
    "    def forward(self, x):\n",
    "        x = F.relu(F.max_pool2d(self.conv1(x), 2))\n",
    "        x = F.relu(F.max_pool2d(self.conv2_drop(self.conv2(x)), 2))\n",
    "        x = x.view(-1, 320)\n",
    "        x = F.relu(self.fc1(x))\n",
    "        x = F.dropout(x, training=self.training)\n",
    "        x = F.relu(self.fc2(x))\n",
    "        return F.log_softmax(x)"
   ]
  },
  {
   "cell_type": "code",
   "execution_count": 40,
   "metadata": {
    "collapsed": false
   },
   "outputs": [
    {
     "name": "stderr",
     "output_type": "stream",
     "text": [
      "/Users/jingyi/anaconda3/lib/python3.5/site-packages/ipykernel/__main__.py:20: UserWarning: Implicit dimension choice for log_softmax has been deprecated. Change the call to include dim=X as an argument.\n"
     ]
    },
    {
     "name": "stdout",
     "output_type": "stream",
     "text": [
      "Train Epoch: 1 [0/60000 (0%)]\tLoss: 2.303412\n",
      "\n",
      "Test set: Average loss: 0.1036, Accuracy: 9666/10000 (97%)\n",
      "\n",
      "Train Epoch: 2 [0/60000 (0%)]\tLoss: 0.915155\n",
      "\n",
      "Test set: Average loss: 0.0716, Accuracy: 9774/10000 (98%)\n",
      "\n",
      "Train Epoch: 3 [0/60000 (0%)]\tLoss: 0.086150\n",
      "\n",
      "Test set: Average loss: 0.0615, Accuracy: 9792/10000 (98%)\n",
      "\n",
      "Train Epoch: 4 [0/60000 (0%)]\tLoss: 0.128461\n",
      "\n",
      "Test set: Average loss: 0.0559, Accuracy: 9828/10000 (98%)\n",
      "\n",
      "Train Epoch: 5 [0/60000 (0%)]\tLoss: 0.192507\n",
      "\n",
      "Test set: Average loss: 0.0463, Accuracy: 9847/10000 (98%)\n",
      "\n",
      "Train Epoch: 6 [0/60000 (0%)]\tLoss: 0.071939\n",
      "\n",
      "Test set: Average loss: 0.0470, Accuracy: 9852/10000 (99%)\n",
      "\n",
      "Train Epoch: 7 [0/60000 (0%)]\tLoss: 0.316469\n",
      "\n",
      "Test set: Average loss: 0.0418, Accuracy: 9868/10000 (99%)\n",
      "\n",
      "Train Epoch: 8 [0/60000 (0%)]\tLoss: 0.070435\n",
      "\n",
      "Test set: Average loss: 0.0400, Accuracy: 9872/10000 (99%)\n",
      "\n",
      "Train Epoch: 9 [0/60000 (0%)]\tLoss: 0.263698\n",
      "\n",
      "Test set: Average loss: 0.0364, Accuracy: 9878/10000 (99%)\n",
      "\n",
      "Train Epoch: 10 [0/60000 (0%)]\tLoss: 0.251827\n",
      "\n",
      "Test set: Average loss: 0.0377, Accuracy: 9885/10000 (99%)\n",
      "\n",
      "Train Epoch: 11 [0/60000 (0%)]\tLoss: 0.037086\n",
      "\n",
      "Test set: Average loss: 0.0357, Accuracy: 9883/10000 (99%)\n",
      "\n",
      "Train Epoch: 12 [0/60000 (0%)]\tLoss: 0.081648\n",
      "\n",
      "Test set: Average loss: 0.0315, Accuracy: 9890/10000 (99%)\n",
      "\n",
      "Train Epoch: 13 [0/60000 (0%)]\tLoss: 0.157236\n",
      "\n",
      "Test set: Average loss: 0.0362, Accuracy: 9881/10000 (99%)\n",
      "\n",
      "Train Epoch: 14 [0/60000 (0%)]\tLoss: 0.097217\n",
      "\n",
      "Test set: Average loss: 0.0325, Accuracy: 9893/10000 (99%)\n",
      "\n",
      "Train Epoch: 15 [0/60000 (0%)]\tLoss: 0.035378\n",
      "\n",
      "Test set: Average loss: 0.0352, Accuracy: 9883/10000 (99%)\n",
      "\n",
      "Train Epoch: 16 [0/60000 (0%)]\tLoss: 0.007402\n",
      "\n",
      "Test set: Average loss: 0.0360, Accuracy: 9886/10000 (99%)\n",
      "\n",
      "Train Epoch: 17 [0/60000 (0%)]\tLoss: 0.097139\n",
      "\n",
      "Test set: Average loss: 0.0345, Accuracy: 9888/10000 (99%)\n",
      "\n",
      "Train Epoch: 18 [0/60000 (0%)]\tLoss: 0.019856\n",
      "\n",
      "Test set: Average loss: 0.0367, Accuracy: 9891/10000 (99%)\n",
      "\n",
      "Train Epoch: 19 [0/60000 (0%)]\tLoss: 0.033950\n",
      "\n",
      "Test set: Average loss: 0.0367, Accuracy: 9875/10000 (99%)\n",
      "\n",
      "Train Epoch: 20 [0/60000 (0%)]\tLoss: 0.038007\n",
      "\n",
      "Test set: Average loss: 0.0322, Accuracy: 9901/10000 (99%)\n",
      "\n"
     ]
    },
    {
     "data": {
      "image/png": "[encoded data removed]",
      "text/plain": [
       "<matplotlib.figure.Figure at 0x121a05d30>"
      ]
     },
     "metadata": {},
     "output_type": "display_data"
    }
   ],
   "source": [
    "model = Net()\n",
    "if use_cuda:\n",
    "    model.cuda()\n",
    "#Optimizor \n",
    "optimizer = optim.SGD(model.parameters(),lr=0.01, momentum=0.5)\n",
    "\n",
    "train_losses =[]\n",
    "test_losses =[]\n",
    "for epoch in range(1, training_epoches + 1):\n",
    "    train_losses.append(train(epoch))\n",
    "    test_losses.append(test(epoch, test_loader))\n",
    "\n",
    "epoch_number = list(range(1, training_epoches + 1))\n",
    "plt.plot(epoch_number,train_losses, 'r' )\n",
    "plt.plot(epoch_number,test_losses, 'b' )\n",
    "plt.show()"
   ]
  },
  {
   "cell_type": "markdown",
   "metadata": {},
   "source": [
    "## Method 2: Add Penalty in Loss Function\n"
   ]
  },
  {
   "cell_type": "code",
   "execution_count": 48,
   "metadata": {
    "collapsed": false
   },
   "outputs": [
    {
     "name": "stderr",
     "output_type": "stream",
     "text": [
      "/Users/jingyi/anaconda3/lib/python3.5/site-packages/ipykernel/__main__.py:20: UserWarning: Implicit dimension choice for log_softmax has been deprecated. Change the call to include dim=X as an argument.\n"
     ]
    },
    {
     "name": "stdout",
     "output_type": "stream",
     "text": [
      "Train Epoch: 1 [0/60000 (0%)]\tLoss: 2.322222\n",
      "\n",
      "Test set: Average loss: 0.1001, Accuracy: 9694/10000 (97%)\n",
      "\n",
      "Train Epoch: 2 [0/60000 (0%)]\tLoss: 0.302557\n",
      "\n",
      "Test set: Average loss: 0.0782, Accuracy: 9758/10000 (98%)\n",
      "\n",
      "Train Epoch: 3 [0/60000 (0%)]\tLoss: 0.205728\n",
      "\n",
      "Test set: Average loss: 0.0628, Accuracy: 9809/10000 (98%)\n",
      "\n",
      "Train Epoch: 4 [0/60000 (0%)]\tLoss: 0.098021\n",
      "\n",
      "Test set: Average loss: 0.0507, Accuracy: 9835/10000 (98%)\n",
      "\n",
      "Train Epoch: 5 [0/60000 (0%)]\tLoss: 0.391120\n",
      "\n",
      "Test set: Average loss: 0.0486, Accuracy: 9853/10000 (99%)\n",
      "\n",
      "Train Epoch: 6 [0/60000 (0%)]\tLoss: 0.101474\n",
      "\n",
      "Test set: Average loss: 0.0527, Accuracy: 9838/10000 (98%)\n",
      "\n",
      "Train Epoch: 7 [0/60000 (0%)]\tLoss: 0.306115\n",
      "\n",
      "Test set: Average loss: 0.0411, Accuracy: 9871/10000 (99%)\n",
      "\n",
      "Train Epoch: 8 [0/60000 (0%)]\tLoss: 0.190602\n",
      "\n",
      "Test set: Average loss: 0.0421, Accuracy: 9857/10000 (99%)\n",
      "\n",
      "Train Epoch: 9 [0/60000 (0%)]\tLoss: 0.052178\n",
      "\n",
      "Test set: Average loss: 0.0429, Accuracy: 9862/10000 (99%)\n",
      "\n",
      "Train Epoch: 10 [0/60000 (0%)]\tLoss: 0.124770\n",
      "\n",
      "Test set: Average loss: 0.0392, Accuracy: 9868/10000 (99%)\n",
      "\n",
      "Train Epoch: 11 [0/60000 (0%)]\tLoss: 1.146719\n",
      "\n",
      "Test set: Average loss: 0.0378, Accuracy: 9887/10000 (99%)\n",
      "\n",
      "Train Epoch: 12 [0/60000 (0%)]\tLoss: 0.177787\n",
      "\n",
      "Test set: Average loss: 0.0376, Accuracy: 9887/10000 (99%)\n",
      "\n",
      "Train Epoch: 13 [0/60000 (0%)]\tLoss: 0.000505\n",
      "\n",
      "Test set: Average loss: 0.0341, Accuracy: 9891/10000 (99%)\n",
      "\n",
      "Train Epoch: 14 [0/60000 (0%)]\tLoss: 0.182338\n",
      "\n",
      "Test set: Average loss: 0.0374, Accuracy: 9880/10000 (99%)\n",
      "\n",
      "Train Epoch: 15 [0/60000 (0%)]\tLoss: 0.032802\n",
      "\n",
      "Test set: Average loss: 0.0342, Accuracy: 9897/10000 (99%)\n",
      "\n",
      "Train Epoch: 16 [0/60000 (0%)]\tLoss: 0.010033\n",
      "\n",
      "Test set: Average loss: 0.0340, Accuracy: 9889/10000 (99%)\n",
      "\n",
      "Train Epoch: 17 [0/60000 (0%)]\tLoss: 0.136950\n",
      "\n",
      "Test set: Average loss: 0.0335, Accuracy: 9895/10000 (99%)\n",
      "\n",
      "Train Epoch: 18 [0/60000 (0%)]\tLoss: 0.036129\n",
      "\n",
      "Test set: Average loss: 0.0334, Accuracy: 9893/10000 (99%)\n",
      "\n",
      "Train Epoch: 19 [0/60000 (0%)]\tLoss: 0.022053\n",
      "\n",
      "Test set: Average loss: 0.0375, Accuracy: 9896/10000 (99%)\n",
      "\n",
      "Train Epoch: 20 [0/60000 (0%)]\tLoss: 0.008861\n",
      "\n",
      "Test set: Average loss: 0.0321, Accuracy: 9904/10000 (99%)\n",
      "\n"
     ]
    },
    {
     "data": {
      "image/png": "[encoded data removed]",
      "text/plain": [
       "<matplotlib.figure.Figure at 0x12d467fd0>"
      ]
     },
     "metadata": {},
     "output_type": "display_data"
    }
   ],
   "source": [
    "# Please add your code here\n",
    "# Hint: Try add L2 penalty in optimizer with weight_decay factor\n",
    "model = Net()\n",
    "if use_cuda:\n",
    "    model.cuda()\n",
    "#Optimizor \n",
    "optimizer = optim.SGD(model.parameters(),lr=0.01, momentum=0.5, weight_decay =1e-5)\n",
    "\n",
    "train_losses =[]\n",
    "test_losses =[]\n",
    "for epoch in range(1, training_epoches + 1):\n",
    "    train_losses.append(train(epoch))\n",
    "    test_losses.append(test(epoch, test_loader))\n",
    "\n",
    "epoch_number = list(range(1, training_epoches + 1))\n",
    "plt.plot(epoch_number,train_losses, 'r' )\n",
    "plt.plot(epoch_number,test_losses, 'b' )\n",
    "plt.show()\n"
   ]
  },
  {
   "cell_type": "markdown",
   "metadata": {
    "collapsed": false
   },
   "source": [
    "## Method 3: Early Stop\n",
    "Reference: Early stop: https://en.wikipedia.org/wiki/Early_stopping"
   ]
  },
  {
   "cell_type": "code",
   "execution_count": 56,
   "metadata": {
    "collapsed": false,
    "scrolled": false
   },
   "outputs": [
    {
     "name": "stderr",
     "output_type": "stream",
     "text": [
      "/Users/jingyi/anaconda3/lib/python3.5/site-packages/ipykernel/__main__.py:20: UserWarning: Implicit dimension choice for log_softmax has been deprecated. Change the call to include dim=X as an argument.\n"
     ]
    },
    {
     "name": "stdout",
     "output_type": "stream",
     "text": [
      "Train Epoch: 1 [0/60000 (0%)]\tLoss: 2.336895\n",
      "\n",
      "Test set: Average loss: 0.1064, Accuracy: 9656/10000 (97%)\n",
      "\n",
      "Train Epoch: 2 [0/60000 (0%)]\tLoss: 0.223484\n",
      "\n",
      "Test set: Average loss: 0.0734, Accuracy: 9777/10000 (98%)\n",
      "\n",
      "Train Epoch: 3 [0/60000 (0%)]\tLoss: 0.259727\n",
      "\n",
      "Test set: Average loss: 0.0634, Accuracy: 9808/10000 (98%)\n",
      "\n",
      "Train Epoch: 4 [0/60000 (0%)]\tLoss: 0.243506\n",
      "\n",
      "Test set: Average loss: 0.0594, Accuracy: 9837/10000 (98%)\n",
      "\n",
      "Train Epoch: 5 [0/60000 (0%)]\tLoss: 0.209533\n",
      "\n",
      "Test set: Average loss: 0.0472, Accuracy: 9860/10000 (99%)\n",
      "\n",
      "Train Epoch: 6 [0/60000 (0%)]\tLoss: 0.085731\n",
      "\n",
      "Test set: Average loss: 0.0457, Accuracy: 9861/10000 (99%)\n",
      "\n",
      "Train Epoch: 7 [0/60000 (0%)]\tLoss: 0.165216\n",
      "\n",
      "Test set: Average loss: 0.0470, Accuracy: 9862/10000 (99%)\n",
      "\n"
     ]
    },
    {
     "data": {
      "image/png": "[encoded data removed]",
      "text/plain": [
       "<matplotlib.figure.Figure at 0x12dfa9ef0>"
      ]
     },
     "metadata": {},
     "output_type": "display_data"
    }
   ],
   "source": [
    "# Please add your code here\n",
    "# Hint: for example, stop training when the test loss is not improving\n",
    "\n",
    "model = Net()\n",
    "if use_cuda:\n",
    "    model.cuda()\n",
    "#Optimizor \n",
    "optimizer = optim.SGD(model.parameters(),lr=0.01, momentum=0.5, weight_decay =1e-5)\n",
    "\n",
    "train_losses =[]\n",
    "test_losses =[]\n",
    "for epoch in range(1, training_epoches + 1):\n",
    "    train_losses.append(train(epoch))\n",
    "    test_losses.append(test(epoch, test_loader))\n",
    "    if epoch >2 and test_losses[-1]> test_losses[-2]:\n",
    "        break\n",
    "\n",
    "epoch_number = list(range(1, len(train_losses) + 1))\n",
    "plt.plot(epoch_number,train_losses, 'r' )\n",
    "plt.plot(epoch_number,test_losses, 'b' )\n",
    "plt.show()\n"
   ]
  },
  {
   "cell_type": "markdown",
   "metadata": {
    "collapsed": true
   },
   "source": [
    "Reference of this exercise: https://github.com/pytorch/examples/blob/master/mnist/main.py"
   ]
  }
 ],
 "metadata": {
  "kernelspec": {
   "display_name": "Python [default]",
   "language": "python",
   "name": "python3"
  },
  "language_info": {
   "codemirror_mode": {
    "name": "ipython",
    "version": 3
   },
   "file_extension": ".py",
   "mimetype": "text/x-python",
   "name": "python",
   "nbconvert_exporter": "python",
   "pygments_lexer": "ipython3",
   "version": "3.5.4"
  }
 },
 "nbformat": 4,
 "nbformat_minor": 2
}
